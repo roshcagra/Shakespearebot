{
 "cells": [
  {
   "cell_type": "code",
   "execution_count": 2,
   "metadata": {
    "collapsed": false,
    "deletable": true,
    "editable": true
   },
   "outputs": [],
   "source": [
    "from __future__ import division, print_function\n",
    "import poetrytools\n",
    "import sys\n",
    "sys.path.append('../hw5/homework5_code')\n",
    "from hmmlearn.hmm import MultinomialHMM"
   ]
  },
  {
   "cell_type": "code",
   "execution_count": 3,
   "metadata": {
    "collapsed": true
   },
   "outputs": [],
   "source": [
    "#pre process\n",
    "f = open(\"project2data/shakespeare.txt\",\"r\")\n",
    "lines = f.readlines()\n",
    "poems = []\n",
    "it = 0\n",
    "while (it * 17) < len(lines):\n",
    "    startline = it * 17 + 1\n",
    "    endline = startline + 14\n",
    "    poems.append(lines[startline:endline])\n",
    "    it += 1"
   ]
  },
  {
   "cell_type": "code",
   "execution_count": 4,
   "metadata": {
    "collapsed": false,
    "deletable": true,
    "editable": true
   },
   "outputs": [],
   "source": [
    "tokenized_poems = []\n",
    "for j in poems:\n",
    "    words = []\n",
    "    list_words = poetrytools.tokenize(''.join(j))\n",
    "    for i in list_words:\n",
    "        words.extend(i[:-1])\n",
    "    tokenized_poems.append(words)"
   ]
  },
  {
   "cell_type": "code",
   "execution_count": 5,
   "metadata": {
    "collapsed": false,
    "deletable": true,
    "editable": true
   },
   "outputs": [],
   "source": [
    "flattened = [val for sublist in tokenized_poems for val in sublist]\n",
    "uniques = set(flattened)\n",
    "words = list(uniques)"
   ]
  },
  {
   "cell_type": "code",
   "execution_count": 6,
   "metadata": {
    "collapsed": false,
    "deletable": true,
    "editable": true
   },
   "outputs": [],
   "source": [
    "converted = []\n",
    "lengths = []\n",
    "for i in range(len(tokenized_poems)):\n",
    "    poem = tokenized_poems[i]\n",
    "    lengths.append(len(poem))\n",
    "    new_poem = []\n",
    "    for j in range(len(poem)):\n",
    "        word = poem[j]\n",
    "        new_poem.append([words.index(word)])\n",
    "    converted.append(new_poem)"
   ]
  },
  {
   "cell_type": "code",
   "execution_count": null,
   "metadata": {
    "collapsed": true,
    "deletable": true,
    "editable": true
   },
   "outputs": [],
   "source": []
  }
 ],
 "metadata": {
  "kernelspec": {
   "display_name": "Python 2",
   "language": "python",
   "name": "python2"
  },
  "language_info": {
   "codemirror_mode": {
    "name": "ipython",
    "version": 2
   },
   "file_extension": ".py",
   "mimetype": "text/x-python",
   "name": "python",
   "nbconvert_exporter": "python",
   "pygments_lexer": "ipython2",
   "version": "2.7.13"
  }
 },
 "nbformat": 4,
 "nbformat_minor": 2
}
