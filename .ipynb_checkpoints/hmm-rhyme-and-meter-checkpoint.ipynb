{
 "cells": [
  {
   "cell_type": "code",
   "execution_count": 3,
   "metadata": {
    "collapsed": false,
    "deletable": true,
    "editable": true
   },
   "outputs": [],
   "source": [
    "from __future__ import division, print_function\n",
    "import numpy as np\n",
    "from hmmlearn.hmm import MultinomialHMM\n",
    "import poetrytools\n",
    "import itertools"
   ]
  },
  {
   "cell_type": "code",
   "execution_count": 2,
   "metadata": {
    "collapsed": false,
    "deletable": true,
    "editable": true
   },
   "outputs": [],
   "source": [
    "%run 'preprocessing.ipynb'"
   ]
  },
  {
   "cell_type": "code",
   "execution_count": 4,
   "metadata": {
    "collapsed": true,
    "deletable": true,
    "editable": true
   },
   "outputs": [],
   "source": [
    "def get_rhymes(words):\n",
    "    num_words = len(words)\n",
    "    rhymes = np.empty((num_words, num_words))\n",
    "    \n",
    "    for i in range(num_words):\n",
    "        for j in (k for k in range(num_words) if not k == i):\n",
    "            if poetrytools.rhymes(words[i], words[j]):\n",
    "                rhymes[i][j] = 1\n",
    "    return rhymes"
   ]
  },
  {
   "cell_type": "code",
   "execution_count": 5,
   "metadata": {
    "collapsed": false,
    "deletable": true,
    "editable": true
   },
   "outputs": [],
   "source": [
    "quatrain_rhymes = get_rhymes(quatrain_words)\n",
    "volta_rhymes = get_rhymes(volta_words)\n",
    "couplet_rhymes = get_rhymes(couplet_words)"
   ]
  },
  {
   "cell_type": "code",
   "execution_count": 6,
   "metadata": {
    "collapsed": false,
    "deletable": true,
    "editable": true
   },
   "outputs": [
    {
     "name": "stderr",
     "output_type": "stream",
     "text": [
      "         1      -76099.6745             +nan\n",
      "         2      -62169.2797      +13930.3948\n",
      "         3      -62162.2341          +7.0456\n",
      "         4      -62139.8212         +22.4129\n",
      "         5      -62065.0901         +74.7310\n",
      "         6      -61820.7373        +244.3529\n",
      "         7      -61229.9313        +590.8059\n",
      "         8      -60517.7265        +712.2048\n",
      "         9      -60108.3643        +409.3623\n",
      "        10      -59933.0495        +175.3148\n",
      "        11      -59832.9117        +100.1377\n",
      "        12      -59740.5058         +92.4059\n",
      "        13      -59622.1473        +118.3586\n",
      "        14      -59452.1301        +170.0172\n",
      "        15      -59224.0314        +228.0987\n",
      "        16      -58982.8937        +241.1377\n",
      "        17      -58783.2113        +199.6824\n",
      "        18      -58615.3448        +167.8664\n",
      "        19      -58429.0601        +186.2847\n",
      "        20      -58171.2201        +257.8400\n",
      "         1      -35709.5354             +nan\n",
      "         2      -30166.3691       +5543.1664\n",
      "         3      -30163.4448          +2.9243\n",
      "         4      -30154.4096          +9.0352\n",
      "         5      -30126.1456         +28.2640\n",
      "         6      -30041.9212         +84.2244\n",
      "         7      -29833.5269        +208.3942\n",
      "         8      -29496.7178        +336.8091\n",
      "         9      -29190.7083        +306.0095\n",
      "        10      -29021.9232        +168.7851\n",
      "        11      -28946.6047         +75.3185\n",
      "        12      -28899.6365         +46.9682\n",
      "        13      -28839.2548         +60.3817\n",
      "        14      -28731.7239        +107.5309\n",
      "        15      -28574.4551        +157.2688\n",
      "        16      -28421.7173        +152.7377\n",
      "        17      -28310.9486        +110.7687\n",
      "        18      -28222.7868         +88.1618\n",
      "        19      -28123.1911         +99.5957\n",
      "        20      -27983.4025        +139.7886\n",
      "         1      -17909.8803             +nan\n",
      "         2      -15391.9396       +2517.9407\n",
      "         3      -15388.9112          +3.0285\n",
      "         4      -15380.0983          +8.8129\n",
      "         5      -15355.0310         +25.0673\n",
      "         6      -15290.7986         +64.2324\n",
      "         7      -15162.0615        +128.7372\n",
      "         8      -14996.5378        +165.5237\n",
      "         9      -14872.8803        +123.6575\n",
      "        10      -14808.8179         +64.0624\n",
      "        11      -14770.9285         +37.8894\n",
      "        12      -14735.7475         +35.1810\n",
      "        13      -14691.1613         +44.5862\n",
      "        14      -14631.6739         +59.4874\n",
      "        15      -14557.9133         +73.7606\n",
      "        16      -14476.0204         +81.8929\n",
      "        17      -14388.7982         +87.2222\n",
      "        18      -14287.8370        +100.9612\n",
      "        19      -14161.8647        +125.9723\n",
      "        20      -14003.6622        +158.2025\n"
     ]
    },
    {
     "data": {
      "text/plain": [
       "MultinomialHMM(algorithm='viterbi', init_params='ste', n_components=30,\n",
       "        n_iter=20, params='ste',\n",
       "        random_state=<mtrand.RandomState object at 0x10ea5a140>,\n",
       "        startprob_prior=1.0, tol=0.01, transmat_prior=1.0, verbose=True)"
      ]
     },
     "execution_count": 6,
     "metadata": {},
     "output_type": "execute_result"
    }
   ],
   "source": [
    "reversed_quatrain_model = MultinomialHMM(n_components=30, n_iter=20, verbose=True)\n",
    "reversed_volta_model = MultinomialHMM(n_components=30, n_iter=20, verbose=True)\n",
    "reversed_couplet_model = MultinomialHMM(n_components=30, n_iter=20, verbose=True)\n",
    "reversed_quatrain_model.fit(np.concatenate(reversed_converted_quatrain_lines), quatrain_lengths)\n",
    "reversed_volta_model.fit(np.concatenate(reversed_converted_volta_lines), volta_lengths)\n",
    "reversed_couplet_model.fit(np.concatenate(reversed_converted_couplet_lines), couplet_lengths)"
   ]
  },
  {
   "cell_type": "code",
   "execution_count": 13,
   "metadata": {
    "collapsed": false,
    "deletable": true,
    "editable": true
   },
   "outputs": [
    {
     "ename": "SyntaxError",
     "evalue": "invalid syntax (<ipython-input-13-6b5ce89ed42d>, line 29)",
     "output_type": "error",
     "traceback": [
      "\u001b[0;36m  File \u001b[0;32m\"<ipython-input-13-6b5ce89ed42d>\"\u001b[0;36m, line \u001b[0;32m29\u001b[0m\n\u001b[0;31m    last_syllable =\u001b[0m\n\u001b[0m                    ^\u001b[0m\n\u001b[0;31mSyntaxError\u001b[0m\u001b[0;31m:\u001b[0m invalid syntax\n"
     ]
    }
   ],
   "source": [
    "def generate_b_line(seed, rhymes, model, length=7):\n",
    "    b_line = []\n",
    "    start_probs = model.startprob_\n",
    "    emission_probs = model.emissionprob_\n",
    "    transition_probs = model.transmat_\n",
    "\n",
    "    start_state = np.random.choice(len(start_probs), p = start_probs)\n",
    "    \n",
    "    possible_start_emissions = np.where(rhymes[seed] == 1)\n",
    "    probs = np.array(emission_probs[start_state][possible_start_emissions])\n",
    "\n",
    "    scaled_probs = probs / sum(probs)\n",
    "    \n",
    "    start_emission = np.random.choice(possible_start_emissions[0], p=scaled_probs)\n",
    "    b_line.append(start_emission)\n",
    "    \n",
    "    curr_state = start_state\n",
    "    for _ in range(length - 1):\n",
    "        possible_transitions = transition_probs[curr_state]\n",
    "        curr_state = np.random.choice(len(possible_transitions), p=possible_transitions)\n",
    "        possible_emissions = emission_probs[curr_state]\n",
    "        curr_emission = np.random.choice(len(possible_emissions), p=possible_emissions)\n",
    "        b_line.append(curr_emission)\n",
    "        \n",
    "    return b_line\n",
    "\n",
    "def generate_line(model, words, seed=None, rhymes=None):\n",
    "    syllables_left = 10\n",
    "    last_syllable = 0\n",
    "    \n",
    "    line= []\n",
    "    start_probs = model.startprob_\n",
    "    emission_probs = model.emissionprob_\n",
    "    transition_probs = model.transmat_\n",
    "    \n",
    "    start_state = np.random.choice(len(start_probs), p = start_probs)\n",
    "    \n",
    "    if seed is not None:\n",
    "        possible_start_emissions = np.where(rhymes[seed] == 1)\n",
    "        probs = np.array(emission_probs[start_state][possible_start_emissions])\n",
    "\n",
    "        scaled_probs = probs / sum(probs)\n",
    "\n",
    "        start_emission = np.random.choice(possible_start_emissions[0], p=scaled_probs)\n",
    "    else:\n",
    "        start_emission = np.random.choice(len(emission_probs[start_state]), p=emission_probs[start_state])\n",
    "    \n",
    "    start_stress = poetrytools.stress(words[start_emission])\n",
    "    syllables_left -= len(start_stress)\n",
    "    \n",
    "    print(start_stress)\n",
    "    \n",
    "    line.append(start_emission)    \n",
    "\n",
    "    \n",
    "    return line\n",
    "\n",
    "def convert_line(sample, words):\n",
    "    ret = ''\n",
    "    i = 0\n",
    "    for word in reversed(sample):\n",
    "        curr_word = words[word]\n",
    "        if i == 0 or len(curr_word) == 1:\n",
    "            ret += curr_word.title() + ' '\n",
    "        else:\n",
    "            ret += curr_word + ' '\n",
    "        i += 1\n",
    "    return ret\n",
    "\n",
    "def generate_pair(model, words, rhymes):\n",
    "    while True:\n",
    "        a_line = generate_line(model, words)\n",
    "        seed = a_line[0]\n",
    "        if len(np.where(rhymes[seed] == 1)[0]) > 0:\n",
    "            b_line = generate_line(model, words, seed, rhymes)\n",
    "            return a_line, b_line\n",
    "        \n",
    "def generate_rhyming_sonnet():\n",
    "    sonnet = ''\n",
    "    a_lines = []\n",
    "    b_lines = []\n",
    "    \n",
    "    for _ in range(4):\n",
    "        a_line, b_line = generate_pair(reversed_quatrain_model, quatrain_words, quatrain_rhymes)\n",
    "        a_lines.append(a_line)\n",
    "        b_lines.append(b_line)\n",
    "    \n",
    "    for i in range(2):\n",
    "        sonnet += convert_line(a_lines[2 * i], quatrain_words) + '\\n'\n",
    "        sonnet += convert_line(a_lines[2 * i + 1], quatrain_words) + '\\n'\n",
    "        sonnet += convert_line(b_lines[2 * i], quatrain_words) + '\\n'\n",
    "        sonnet += convert_line(b_lines[2 * i + 1], quatrain_words) + '\\n'\n",
    "    \n",
    "    a_lines = []\n",
    "    b_lines = []\n",
    "    \n",
    "    for _ in range(2):\n",
    "        a_line, b_line = generate_pair(reversed_volta_model, volta_words, volta_rhymes)\n",
    "        a_lines.append(a_line)\n",
    "        b_lines.append(b_line)\n",
    "    \n",
    "    sonnet += convert_line(a_lines[0], volta_words) + '\\n'\n",
    "    sonnet += convert_line(a_lines[1], volta_words) + '\\n'\n",
    "    sonnet += convert_line(b_lines[0], volta_words) + '\\n'\n",
    "    sonnet += convert_line(b_lines[1], volta_words) + '\\n'\n",
    "    \n",
    "    a_line, b_line = generate_pair(reversed_couplet_model, couplet_words, couplet_rhymes)\n",
    "    sonnet += convert_line(a_line, couplet_words) + '\\n'\n",
    "    sonnet += convert_line(b_line, couplet_words) + '\\n'\n",
    "    \n",
    "    return sonnet\n",
    "\n",
    "def generate_10_rhyming_sonnets():\n",
    "    sonnets = ''\n",
    "    for i in range(10):\n",
    "        sonnets += str(i) + '\\n' + generate_rhyming_sonnet() + '\\n'\n",
    "    \n",
    "    f = open(\"project2data/rhyming_shakespeare.txt\",\"w\")\n",
    "    f.write(sonnets)\n",
    "    return sonnets"
   ]
  },
  {
   "cell_type": "code",
   "execution_count": 14,
   "metadata": {
    "collapsed": false,
    "deletable": true,
    "editable": true
   },
   "outputs": [
    {
     "name": "stdout",
     "output_type": "stream",
     "text": [
      "Latch \n",
      "Kept \n",
      "Catch \n",
      "Except \n",
      "Day \n",
      "Tied \n",
      "Today \n",
      "Pride \n",
      "Free \n",
      "Behind \n",
      "Decree \n",
      "Fiend \n",
      "Kill \n",
      "Will \n",
      "\n"
     ]
    }
   ],
   "source": [
    "print(generate_rhyming_sonnet())"
   ]
  },
  {
   "cell_type": "code",
   "execution_count": 141,
   "metadata": {
    "collapsed": false,
    "deletable": true,
    "editable": true
   },
   "outputs": [],
   "source": [
    "# checks if line is in iambic pentameter (i.e. 0101010101 stress pattern)\n",
    "def check_iambic_pentameter(line):\n",
    "    # get the stresses from cmu dict \n",
    "    # if word is 1 syllable, then have the option for it to be stressed or unstressed\n",
    "    stresses = []\n",
    "    for i in line.split(' '):\n",
    "        stress = poetrytools.stress(i)\n",
    "        if len(stress) == 1:\n",
    "            stresses.append(['0','1'])\n",
    "        else:\n",
    "            stresses.append([stress])\n",
    "    \n",
    "    # make combination of all possible stress patterns\n",
    "    result = [[]]\n",
    "    final = []\n",
    "    for pool in stresses:\n",
    "        result = [x+[y] for x in result for y in pool]\n",
    "    final = [''.join(i) for i in result]\n",
    "    \n",
    "    # return if any pattern fits iambic pentameter \n",
    "    return ('0101010101' in final)"
   ]
  },
  {
   "cell_type": "code",
   "execution_count": null,
   "metadata": {
    "collapsed": false,
    "deletable": true,
    "editable": true
   },
   "outputs": [],
   "source": []
  },
  {
   "cell_type": "code",
   "execution_count": null,
   "metadata": {
    "collapsed": false,
    "deletable": true,
    "editable": true
   },
   "outputs": [],
   "source": []
  },
  {
   "cell_type": "code",
   "execution_count": null,
   "metadata": {
    "collapsed": true,
    "deletable": true,
    "editable": true
   },
   "outputs": [],
   "source": []
  }
 ],
 "metadata": {
  "kernelspec": {
   "display_name": "Python 2",
   "language": "python",
   "name": "python2"
  },
  "language_info": {
   "codemirror_mode": {
    "name": "ipython",
    "version": 2
   },
   "file_extension": ".py",
   "mimetype": "text/x-python",
   "name": "python",
   "nbconvert_exporter": "python",
   "pygments_lexer": "ipython2",
   "version": "2.7.13"
  }
 },
 "nbformat": 4,
 "nbformat_minor": 2
}
