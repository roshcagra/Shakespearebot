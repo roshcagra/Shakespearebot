{
 "cells": [
  {
   "cell_type": "code",
   "execution_count": 131,
   "metadata": {
    "collapsed": false,
    "deletable": true,
    "editable": true
   },
   "outputs": [],
   "source": [
    "from __future__ import division, print_function\n",
    "import numpy as np\n",
    "import os\n",
    "import sys\n",
    "sys.path.append('../hw5/homework5_code')\n",
    "from hmmlearn.hmm import MultinomialHMM"
   ]
  },
  {
   "cell_type": "code",
   "execution_count": 167,
   "metadata": {
    "collapsed": false
   },
   "outputs": [],
   "source": [
    "%run 'preprocessing-words.ipynb'"
   ]
  },
  {
   "cell_type": "code",
   "execution_count": 163,
   "metadata": {
    "collapsed": false,
    "deletable": true,
    "editable": true,
    "scrolled": true
   },
   "outputs": [
    {
     "data": {
      "text/plain": [
       "MultinomialHMM(algorithm='viterbi', init_params='ste', n_components=6,\n",
       "        n_iter=10, params='ste',\n",
       "        random_state=<mtrand.RandomState object at 0x1073cd5a0>,\n",
       "        startprob_prior=1.0, tol=0.01, transmat_prior=1.0, verbose=False)"
      ]
     },
     "execution_count": 163,
     "metadata": {},
     "output_type": "execute_result"
    }
   ],
   "source": [
    "quatrain_model = MultinomialHMM(n_components=6)\n",
    "volta_model = MultinomialHMM(n_components=6)\n",
    "couplet_model = MultinomialHMM(n_components=6)\n",
    "quatrain_model.fit(np.concatenate(converted_quatrain_lines), quatrain_lengths)\n",
    "volta_model.fit(np.concatenate(converted_volta_lines), volta_lengths)\n",
    "couplet_model.fit(np.concatenate(converted_couplet_lines), couplet_lengths)"
   ]
  },
  {
   "cell_type": "code",
   "execution_count": 181,
   "metadata": {
    "collapsed": false
   },
   "outputs": [],
   "source": [
    "def convert_sample(sample, words):\n",
    "    ret = ''\n",
    "    for word in np.nditer(sample[0]):\n",
    "        ret += words[word] + ' '\n",
    "    return ret\n",
    "\n",
    "def generate_sonnet():\n",
    "    sonnet = ''\n",
    "    for _ in range(8):\n",
    "        new_quatrain_line = quatrain_model.sample(avg_quatrain_length)\n",
    "        sonnet += convert_sample(new_quatrain_line, quatrain_words) + '\\n'\n",
    "    for _ in range(4):\n",
    "        new_volta_line = volta_model.sample(avg_volta_length)\n",
    "        sonnet += convert_sample(new_volta_line, volta_words) + '\\n'\n",
    "    for _ in range(2):\n",
    "        new_couplet_line = couplet_model.sample(avg_couplet_length)\n",
    "        sonnet += convert_sample(new_couplet_line, couplet_words) + '\\n'\n",
    "    return sonnet\n",
    "        \n"
   ]
  },
  {
   "cell_type": "code",
   "execution_count": 182,
   "metadata": {
    "collapsed": false
   },
   "outputs": [
    {
     "name": "stdout",
     "output_type": "stream",
     "text": [
      "The dreams blamed that which eyes sinful \n",
      "back thought my repose my hell hand \n",
      "preserve my losing Is my hid the \n",
      "tyrannous your my them times to longer \n",
      "Yet My the of to Some the \n",
      "They all If thing of we fashion \n",
      "But I fill call foist whose Reserve \n",
      "Whence the would thy are gives tripping \n",
      "Crowning child are thy you to to \n",
      "If do one my may mightst put'st \n",
      "The poet's the tongues he and a \n",
      "Had thoughts this she wakened I give \n",
      "If strains far an my a had \n",
      "Compared unless truth vow have this dear \n",
      "\n"
     ]
    }
   ],
   "source": [
    "print(generate_sonnet())"
   ]
  },
  {
   "cell_type": "code",
   "execution_count": null,
   "metadata": {
    "collapsed": true
   },
   "outputs": [],
   "source": []
  }
 ],
 "metadata": {
  "kernelspec": {
   "display_name": "Python 2",
   "language": "python",
   "name": "python2"
  },
  "language_info": {
   "codemirror_mode": {
    "name": "ipython",
    "version": 2
   },
   "file_extension": ".py",
   "mimetype": "text/x-python",
   "name": "python",
   "nbconvert_exporter": "python",
   "pygments_lexer": "ipython2",
   "version": "2.7.13"
  }
 },
 "nbformat": 4,
 "nbformat_minor": 2
}
