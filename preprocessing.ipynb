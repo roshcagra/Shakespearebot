{
 "cells": [
  {
   "cell_type": "code",
   "execution_count": 142,
   "metadata": {
    "collapsed": false,
    "deletable": true,
    "editable": true
   },
   "outputs": [],
   "source": [
    "from __future__ import division, print_function\n",
    "import poetrytools\n",
    "import sys\n",
    "sys.path.append('../hw5/homework5_code')\n",
    "from hmmlearn.hmm import MultinomialHMM"
   ]
  },
  {
   "cell_type": "code",
   "execution_count": 143,
   "metadata": {
    "collapsed": true
   },
   "outputs": [],
   "source": [
    "#pre process\n",
    "f = open(\"project2data/shakespeare.txt\",\"r\")\n",
    "data = f.readlines()\n",
    "poems = []\n",
    "quatrain_lines = []\n",
    "volta_lines = []\n",
    "couplet_lines = []\n",
    "it = 0\n",
    "while (it * 17) < len(data):\n",
    "    startline = it * 17 + 1\n",
    "    endline = it * 17 + 14\n",
    "    poems.append(data[startline:endline])\n",
    "    quatrain_lines += data[startline:(startline + 8)]\n",
    "    volta_lines += data[(startline + 8):(startline + 12)]\n",
    "    couplet_lines += data[(startline + 12):(startline + 14)]\n",
    "    it += 1"
   ]
  },
  {
   "cell_type": "code",
   "execution_count": 179,
   "metadata": {
    "collapsed": false,
    "deletable": true,
    "editable": true
   },
   "outputs": [],
   "source": [
    "def tokenize_lines(lines):\n",
    "    tokenized_lines = []\n",
    "    for j in lines:\n",
    "        curr_words = []\n",
    "        list_words = poetrytools.tokenize(j)\n",
    "        for word in list_words[0]:\n",
    "            curr_words.append(word.lower())\n",
    "        tokenized_lines.append(curr_words)\n",
    "    \n",
    "    flattened = [val for sublist in tokenized_lines for val in sublist]\n",
    "    uniques = set(flattened)\n",
    "    words = list(uniques)\n",
    "    \n",
    "    return tokenized_lines, words\n",
    "\n",
    "def tokenize_and_reverse_lines(lines):\n",
    "    tokenized_lines = []\n",
    "    for j in lines:\n",
    "        curr_words = []\n",
    "        list_words = poetrytools.tokenize(j)\n",
    "        for word in list_words[0]:\n",
    "            curr_words.append(word.lower())\n",
    "        tokenized_lines.append(list(reversed(curr_words)))\n",
    "    \n",
    "    return tokenized_lines"
   ]
  },
  {
   "cell_type": "code",
   "execution_count": 176,
   "metadata": {
    "collapsed": false,
    "deletable": true,
    "editable": true
   },
   "outputs": [],
   "source": [
    "tokenized_quatrain_lines, quatrain_words = tokenize_lines(quatrain_lines)\n",
    "tokenized_volta_lines, volta_words = tokenize_lines(volta_lines)\n",
    "tokenized_couplet_lines, couplet_words = tokenize_lines(couplet_lines)\n",
    "\n",
    "reversed_tokenized_quatrain_lines = tokenize_and_reverse_lines(quatrain_lines)\n",
    "reversed_tokenized_volta_lines = tokenize_and_reverse_lines(volta_lines)\n",
    "reversed_tokenized_couplet_lines = tokenize_and_reverse_lines(couplet_lines)"
   ]
  },
  {
   "cell_type": "code",
   "execution_count": 146,
   "metadata": {
    "collapsed": false,
    "deletable": true,
    "editable": true
   },
   "outputs": [],
   "source": [
    "def convert_tokenized_lines(tokenized_lines, words):\n",
    "    converted = []\n",
    "    lengths = []\n",
    "    for i in range(len(tokenized_lines)):\n",
    "        line = tokenized_lines[i]\n",
    "        lengths.append(len(line))\n",
    "        new_line = []\n",
    "        for j in range(len(line)):\n",
    "            word = line[j]\n",
    "            new_line.append([words.index(word)])\n",
    "        converted.append(new_line)\n",
    "    return converted, lengths"
   ]
  },
  {
   "cell_type": "code",
   "execution_count": 149,
   "metadata": {
    "collapsed": false
   },
   "outputs": [],
   "source": [
    "converted_quatrain_lines, quatrain_lengths = convert_tokenized_lines(tokenized_quatrain_lines, quatrain_words)\n",
    "converted_volta_lines, volta_lengths = convert_tokenized_lines(tokenized_volta_lines, volta_words)\n",
    "converted_couplet_lines, couplet_lengths = convert_tokenized_lines(tokenized_couplet_lines, couplet_words)\n",
    "\n",
    "reversed_converted_quatrain_lines, quatrain_lengths = convert_tokenized_lines(reversed_tokenized_quatrain_lines, quatrain_words)\n",
    "reversed_converted_volta_lines, volta_lengths = convert_tokenized_lines(reversed_tokenized_volta_lines, volta_words)\n",
    "reversed_converted_couplet_lines, couplet_lengths = convert_tokenized_lines(reversed_tokenized_couplet_lines, couplet_words)"
   ]
  },
  {
   "cell_type": "code",
   "execution_count": 148,
   "metadata": {
    "collapsed": false
   },
   "outputs": [],
   "source": [
    "avg_quatrain_length = int(np.floor(np.average(quatrain_lengths)))\n",
    "avg_volta_length = int(np.floor(np.average(volta_lengths)))\n",
    "avg_couplet_length = int(np.floor(np.average(couplet_lengths)))"
   ]
  },
  {
   "cell_type": "code",
   "execution_count": null,
   "metadata": {
    "collapsed": true
   },
   "outputs": [],
   "source": []
  }
 ],
 "metadata": {
  "kernelspec": {
   "display_name": "Python 2",
   "language": "python",
   "name": "python2"
  },
  "language_info": {
   "codemirror_mode": {
    "name": "ipython",
    "version": 2
   },
   "file_extension": ".py",
   "mimetype": "text/x-python",
   "name": "python",
   "nbconvert_exporter": "python",
   "pygments_lexer": "ipython2",
   "version": "2.7.10"
  }
 },
 "nbformat": 4,
 "nbformat_minor": 2
}
