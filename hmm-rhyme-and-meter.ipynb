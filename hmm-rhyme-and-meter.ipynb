{
 "cells": [
  {
   "cell_type": "code",
   "execution_count": 144,
   "metadata": {
    "collapsed": false
   },
   "outputs": [],
   "source": [
    "from __future__ import division, print_function\n",
    "import numpy as np\n",
    "from hmmlearn.hmm import MultinomialHMM\n",
    "import poetrytools\n",
    "import itertools"
   ]
  },
  {
   "cell_type": "code",
   "execution_count": 155,
   "metadata": {
    "collapsed": false
   },
   "outputs": [],
   "source": [
    "%run 'preprocessing.ipynb'"
   ]
  },
  {
   "cell_type": "code",
   "execution_count": 156,
   "metadata": {
    "collapsed": true
   },
   "outputs": [],
   "source": [
    "def get_rhymes(words):\n",
    "    num_words = len(words)\n",
    "    rhymes = np.empty((num_words, num_words))\n",
    "    \n",
    "    for i in range(num_words):\n",
    "        for j in (k for k in range(num_words) if not k == i):\n",
    "            if poetrytools.rhymes(words[i], words[j]):\n",
    "                rhymes[i][j] = 1\n",
    "    return rhymes"
   ]
  },
  {
   "cell_type": "code",
   "execution_count": 157,
   "metadata": {
    "collapsed": false
   },
   "outputs": [
    {
     "ename": "KeyboardInterrupt",
     "evalue": "",
     "output_type": "error",
     "traceback": [
      "\u001b[0;31m---------------------------------------------------------------------------\u001b[0m",
      "\u001b[0;31mKeyboardInterrupt\u001b[0m                         Traceback (most recent call last)",
      "\u001b[0;32m<ipython-input-157-ccfc33354915>\u001b[0m in \u001b[0;36m<module>\u001b[0;34m()\u001b[0m\n\u001b[1;32m      1\u001b[0m \u001b[0mquatrain_rhymes\u001b[0m \u001b[0;34m=\u001b[0m \u001b[0mget_rhymes\u001b[0m\u001b[0;34m(\u001b[0m\u001b[0mquatrain_words\u001b[0m\u001b[0;34m)\u001b[0m\u001b[0;34m\u001b[0m\u001b[0m\n\u001b[0;32m----> 2\u001b[0;31m \u001b[0mvolta_rhymes\u001b[0m \u001b[0;34m=\u001b[0m \u001b[0mget_rhymes\u001b[0m\u001b[0;34m(\u001b[0m\u001b[0mvolta_words\u001b[0m\u001b[0;34m)\u001b[0m\u001b[0;34m\u001b[0m\u001b[0m\n\u001b[0m\u001b[1;32m      3\u001b[0m \u001b[0mcouplet_rhymes\u001b[0m \u001b[0;34m=\u001b[0m \u001b[0mget_rhymes\u001b[0m\u001b[0;34m(\u001b[0m\u001b[0mcouplet_words\u001b[0m\u001b[0;34m)\u001b[0m\u001b[0;34m\u001b[0m\u001b[0m\n",
      "\u001b[0;32m<ipython-input-156-8e8c7fb16917>\u001b[0m in \u001b[0;36mget_rhymes\u001b[0;34m(words)\u001b[0m\n\u001b[1;32m      5\u001b[0m     \u001b[0;32mfor\u001b[0m \u001b[0mi\u001b[0m \u001b[0;32min\u001b[0m \u001b[0mrange\u001b[0m\u001b[0;34m(\u001b[0m\u001b[0mnum_words\u001b[0m\u001b[0;34m)\u001b[0m\u001b[0;34m:\u001b[0m\u001b[0;34m\u001b[0m\u001b[0m\n\u001b[1;32m      6\u001b[0m         \u001b[0;32mfor\u001b[0m \u001b[0mj\u001b[0m \u001b[0;32min\u001b[0m \u001b[0;34m(\u001b[0m\u001b[0mk\u001b[0m \u001b[0;32mfor\u001b[0m \u001b[0mk\u001b[0m \u001b[0;32min\u001b[0m \u001b[0mrange\u001b[0m\u001b[0;34m(\u001b[0m\u001b[0mnum_words\u001b[0m\u001b[0;34m)\u001b[0m \u001b[0;32mif\u001b[0m \u001b[0;32mnot\u001b[0m \u001b[0mk\u001b[0m \u001b[0;34m==\u001b[0m \u001b[0mi\u001b[0m\u001b[0;34m)\u001b[0m\u001b[0;34m:\u001b[0m\u001b[0;34m\u001b[0m\u001b[0m\n\u001b[0;32m----> 7\u001b[0;31m             \u001b[0;32mif\u001b[0m \u001b[0mpoetrytools\u001b[0m\u001b[0;34m.\u001b[0m\u001b[0mrhymes\u001b[0m\u001b[0;34m(\u001b[0m\u001b[0mwords\u001b[0m\u001b[0;34m[\u001b[0m\u001b[0mi\u001b[0m\u001b[0;34m]\u001b[0m\u001b[0;34m,\u001b[0m \u001b[0mwords\u001b[0m\u001b[0;34m[\u001b[0m\u001b[0mj\u001b[0m\u001b[0;34m]\u001b[0m\u001b[0;34m)\u001b[0m\u001b[0;34m:\u001b[0m\u001b[0;34m\u001b[0m\u001b[0m\n\u001b[0m\u001b[1;32m      8\u001b[0m                 \u001b[0mrhymes\u001b[0m\u001b[0;34m[\u001b[0m\u001b[0mi\u001b[0m\u001b[0;34m]\u001b[0m\u001b[0;34m[\u001b[0m\u001b[0mj\u001b[0m\u001b[0;34m]\u001b[0m \u001b[0;34m=\u001b[0m \u001b[0;36m1\u001b[0m\u001b[0;34m\u001b[0m\u001b[0m\n\u001b[1;32m      9\u001b[0m     \u001b[0;32mreturn\u001b[0m \u001b[0mrhymes\u001b[0m\u001b[0;34m\u001b[0m\u001b[0m\n",
      "\u001b[0;32m/Users/seohyunkim/Desktop/Caltech/16-17/WI16-17/CS155/lib/python2.7/site-packages/poetrytools-0.1-py2.7.egg/poetrytools/poetics.pyc\u001b[0m in \u001b[0;36mrhymes\u001b[0;34m(word1, word2, level)\u001b[0m\n\u001b[1;32m    119\u001b[0m         \u001b[0;32mfor\u001b[0m \u001b[0msyllable\u001b[0m \u001b[0;32min\u001b[0m \u001b[0mpronunciations\u001b[0m\u001b[0;34m:\u001b[0m\u001b[0;34m\u001b[0m\u001b[0m\n\u001b[1;32m    120\u001b[0m             \u001b[0;32mfor\u001b[0m \u001b[0msyllable2\u001b[0m \u001b[0;32min\u001b[0m \u001b[0mpronunciations2\u001b[0m\u001b[0;34m:\u001b[0m\u001b[0;34m\u001b[0m\u001b[0m\n\u001b[0;32m--> 121\u001b[0;31m                 \u001b[0;32mif\u001b[0m \u001b[0msyllable2\u001b[0m\u001b[0;34m[\u001b[0m\u001b[0;34m-\u001b[0m\u001b[0mlevel\u001b[0m\u001b[0;34m:\u001b[0m\u001b[0;34m]\u001b[0m \u001b[0;34m==\u001b[0m \u001b[0msyllable\u001b[0m\u001b[0;34m[\u001b[0m\u001b[0;34m-\u001b[0m\u001b[0mlevel\u001b[0m\u001b[0;34m:\u001b[0m\u001b[0;34m]\u001b[0m\u001b[0;34m:\u001b[0m\u001b[0;34m\u001b[0m\u001b[0m\n\u001b[0m\u001b[1;32m    122\u001b[0m                     \u001b[0;32mreturn\u001b[0m \u001b[0mTrue\u001b[0m\u001b[0;34m\u001b[0m\u001b[0m\n\u001b[1;32m    123\u001b[0m     \u001b[0;32mreturn\u001b[0m \u001b[0mFalse\u001b[0m\u001b[0;34m\u001b[0m\u001b[0m\n",
      "\u001b[0;31mKeyboardInterrupt\u001b[0m: "
     ]
    }
   ],
   "source": [
    "quatrain_rhymes = get_rhymes(quatrain_words)\n",
    "volta_rhymes = get_rhymes(volta_words)\n",
    "couplet_rhymes = get_rhymes(couplet_words)"
   ]
  },
  {
   "cell_type": "code",
   "execution_count": 151,
   "metadata": {
    "collapsed": false
   },
   "outputs": [
    {
     "ename": "NameError",
     "evalue": "name 'reversed_converted_quatrain_lines' is not defined",
     "output_type": "error",
     "traceback": [
      "\u001b[0;31m---------------------------------------------------------------------------\u001b[0m",
      "\u001b[0;31mNameError\u001b[0m                                 Traceback (most recent call last)",
      "\u001b[0;32m<ipython-input-151-76d8fc56b74b>\u001b[0m in \u001b[0;36m<module>\u001b[0;34m()\u001b[0m\n\u001b[1;32m      2\u001b[0m \u001b[0mreversed_volta_model\u001b[0m \u001b[0;34m=\u001b[0m \u001b[0mMultinomialHMM\u001b[0m\u001b[0;34m(\u001b[0m\u001b[0mn_components\u001b[0m\u001b[0;34m=\u001b[0m\u001b[0;36m30\u001b[0m\u001b[0;34m,\u001b[0m \u001b[0mn_iter\u001b[0m\u001b[0;34m=\u001b[0m\u001b[0;36m20\u001b[0m\u001b[0;34m,\u001b[0m \u001b[0mverbose\u001b[0m\u001b[0;34m=\u001b[0m\u001b[0mTrue\u001b[0m\u001b[0;34m)\u001b[0m\u001b[0;34m\u001b[0m\u001b[0m\n\u001b[1;32m      3\u001b[0m \u001b[0mreversed_couplet_model\u001b[0m \u001b[0;34m=\u001b[0m \u001b[0mMultinomialHMM\u001b[0m\u001b[0;34m(\u001b[0m\u001b[0mn_components\u001b[0m\u001b[0;34m=\u001b[0m\u001b[0;36m30\u001b[0m\u001b[0;34m,\u001b[0m \u001b[0mn_iter\u001b[0m\u001b[0;34m=\u001b[0m\u001b[0;36m20\u001b[0m\u001b[0;34m,\u001b[0m \u001b[0mverbose\u001b[0m\u001b[0;34m=\u001b[0m\u001b[0mTrue\u001b[0m\u001b[0;34m)\u001b[0m\u001b[0;34m\u001b[0m\u001b[0m\n\u001b[0;32m----> 4\u001b[0;31m \u001b[0mreversed_quatrain_model\u001b[0m\u001b[0;34m.\u001b[0m\u001b[0mfit\u001b[0m\u001b[0;34m(\u001b[0m\u001b[0mnp\u001b[0m\u001b[0;34m.\u001b[0m\u001b[0mconcatenate\u001b[0m\u001b[0;34m(\u001b[0m\u001b[0mreversed_converted_quatrain_lines\u001b[0m\u001b[0;34m)\u001b[0m\u001b[0;34m,\u001b[0m \u001b[0mquatrain_lengths\u001b[0m\u001b[0;34m)\u001b[0m\u001b[0;34m\u001b[0m\u001b[0m\n\u001b[0m\u001b[1;32m      5\u001b[0m \u001b[0mreversed_volta_model\u001b[0m\u001b[0;34m.\u001b[0m\u001b[0mfit\u001b[0m\u001b[0;34m(\u001b[0m\u001b[0mnp\u001b[0m\u001b[0;34m.\u001b[0m\u001b[0mconcatenate\u001b[0m\u001b[0;34m(\u001b[0m\u001b[0mreversed_converted_volta_lines\u001b[0m\u001b[0;34m)\u001b[0m\u001b[0;34m,\u001b[0m \u001b[0mvolta_lengths\u001b[0m\u001b[0;34m)\u001b[0m\u001b[0;34m\u001b[0m\u001b[0m\n\u001b[1;32m      6\u001b[0m \u001b[0mreversed_couplet_model\u001b[0m\u001b[0;34m.\u001b[0m\u001b[0mfit\u001b[0m\u001b[0;34m(\u001b[0m\u001b[0mnp\u001b[0m\u001b[0;34m.\u001b[0m\u001b[0mconcatenate\u001b[0m\u001b[0;34m(\u001b[0m\u001b[0mreversed_converted_couplet_lines\u001b[0m\u001b[0;34m)\u001b[0m\u001b[0;34m,\u001b[0m \u001b[0mcouplet_lengths\u001b[0m\u001b[0;34m)\u001b[0m\u001b[0;34m\u001b[0m\u001b[0m\n",
      "\u001b[0;31mNameError\u001b[0m: name 'reversed_converted_quatrain_lines' is not defined"
     ]
    }
   ],
   "source": [
    "reversed_quatrain_model = MultinomialHMM(n_components=30, n_iter=20, verbose=True)\n",
    "reversed_volta_model = MultinomialHMM(n_components=30, n_iter=20, verbose=True)\n",
    "reversed_couplet_model = MultinomialHMM(n_components=30, n_iter=20, verbose=True)\n",
    "reversed_quatrain_model.fit(np.concatenate(reversed_converted_quatrain_lines), quatrain_lengths)\n",
    "reversed_volta_model.fit(np.concatenate(reversed_converted_volta_lines), volta_lengths)\n",
    "reversed_couplet_model.fit(np.concatenate(reversed_converted_couplet_lines), couplet_lengths)"
   ]
  },
  {
   "cell_type": "code",
   "execution_count": 149,
   "metadata": {
    "collapsed": false
   },
   "outputs": [],
   "source": [
    "def generate_b_line(seed, rhymes, model, length=7):\n",
    "    b_line = []\n",
    "    start_probs = model.startprob_\n",
    "    emission_probs = model.emissionprob_\n",
    "    transition_probs = model.transmat_\n",
    "\n",
    "    start_state = np.random.choice(len(start_probs), p = start_probs)\n",
    "    \n",
    "    possible_start_emissions = np.where(rhymes[seed] == 1)\n",
    "    probs = np.array(emission_probs[start_state][possible_start_emissions])\n",
    "\n",
    "    scaled_probs = probs / sum(probs)\n",
    "    \n",
    "    start_emission = np.random.choice(possible_start_emissions[0], p=scaled_probs)\n",
    "    b_line.append(start_emission)\n",
    "    \n",
    "    curr_state = start_state\n",
    "    for _ in range(length - 1):\n",
    "        possible_transitions = transition_probs[curr_state]\n",
    "        curr_state = np.random.choice(len(possible_transitions), p=possible_transitions)\n",
    "        possible_emissions = emission_probs[curr_state]\n",
    "        curr_emission = np.random.choice(len(possible_emissions), p=possible_emissions)\n",
    "        b_line.append(curr_emission)\n",
    "        \n",
    "    return b_line\n",
    "\n",
    "def convert_a_line(sample, words):\n",
    "    ret = ''\n",
    "    reversed_list = []\n",
    "    for word in np.nditer(sample):\n",
    "        reversed_list.append(word)\n",
    "    \n",
    "    i = 0\n",
    "    for word in reversed(reversed_list):\n",
    "        curr_word = words[word]\n",
    "        if i == 0 or len(curr_word) == 1:\n",
    "            ret += curr_word.title() + ' '\n",
    "        else:\n",
    "            ret += curr_word + ' '\n",
    "        i += 1\n",
    "    return ret\n",
    "\n",
    "def convert_b_line(sample, words):\n",
    "    ret = ''\n",
    "    i = 0\n",
    "    for word in reversed(sample):\n",
    "        curr_word = words[word]\n",
    "        if i == 0 or len(curr_word) == 1:\n",
    "            ret += curr_word.title() + ' '\n",
    "        else:\n",
    "            ret += curr_word + ' '\n",
    "        i += 1\n",
    "    return ret\n",
    "\n",
    "def generate_pair(model, rhymes, length=7):\n",
    "    while True:\n",
    "        a_line = model.sample(length)[0]\n",
    "        seed = a_line[0][0]\n",
    "        if len(np.where(rhymes[seed] == 1)[0]) > 0:\n",
    "            b_line = generate_b_line(seed, rhymes, model)\n",
    "            return a_line, b_line\n",
    "        \n",
    "def generate_rhyming_sonnet():\n",
    "    sonnet = ''\n",
    "    a_lines = []\n",
    "    b_lines = []\n",
    "    \n",
    "    for _ in range(4):\n",
    "        a_line, b_line = generate_pair(reversed_quatrain_model, quatrain_rhymes)\n",
    "        a_lines.append(a_line)\n",
    "        b_lines.append(b_line)\n",
    "    \n",
    "    for i in range(2):\n",
    "        sonnet += convert_a_line(a_lines[2 * i], quatrain_words) + '\\n'\n",
    "        sonnet += convert_a_line(a_lines[2 * i + 1], quatrain_words) + '\\n'\n",
    "        sonnet += convert_b_line(b_lines[2 * i], quatrain_words) + '\\n'\n",
    "        sonnet += convert_b_line(b_lines[2 * i + 1], quatrain_words) + '\\n'\n",
    "    \n",
    "    a_lines = []\n",
    "    b_lines = []\n",
    "    \n",
    "    for _ in range(2):\n",
    "        a_line, b_line = generate_pair(reversed_volta_model, volta_rhymes)\n",
    "        a_lines.append(a_line)\n",
    "        b_lines.append(b_line)\n",
    "    \n",
    "    sonnet += convert_a_line(a_lines[0], volta_words) + '\\n'\n",
    "    sonnet += convert_a_line(a_lines[1], volta_words) + '\\n'\n",
    "    sonnet += convert_b_line(b_lines[0], volta_words) + '\\n'\n",
    "    sonnet += convert_b_line(b_lines[1], volta_words) + '\\n'\n",
    "    \n",
    "    a_line, b_line = generate_pair(reversed_couplet_model, couplet_rhymes)\n",
    "    sonnet += convert_a_line(a_line, couplet_words) + '\\n'\n",
    "    sonnet += convert_b_line(b_line, couplet_words) + '\\n'\n",
    "    \n",
    "    return sonnet\n",
    "\n",
    "def generate_10_rhyming_sonnets():\n",
    "    sonnets = ''\n",
    "    for i in range(10):\n",
    "        sonnets += str(i) + '\\n' + generate_rhyming_sonnet() + '\\n'\n",
    "    \n",
    "    f = open(\"project2data/rhyming_shakespeare.txt\",\"w\")\n",
    "    f.write(sonnets)\n",
    "    return sonnets"
   ]
  },
  {
   "cell_type": "code",
   "execution_count": 146,
   "metadata": {
    "collapsed": false
   },
   "outputs": [],
   "source": [
    "print(generate_10_rhyming_sonnets())"
   ]
  },
  {
   "cell_type": "code",
   "execution_count": 141,
   "metadata": {
    "collapsed": false
   },
   "outputs": [],
   "source": [
    "# checks if line is in iambic pentameter (i.e. 0101010101 stress pattern)\n",
    "def check_iambic_pentameter(line):\n",
    "    # get the stresses from cmu dict \n",
    "    # if word is 1 syllable, then have the option for it to be stressed or unstressed\n",
    "    stresses = []\n",
    "    for i in line.split(' '):\n",
    "        stress = poetrytools.stress(i)\n",
    "        if len(stress) == 1:\n",
    "            stresses.append(['0','1'])\n",
    "        else:\n",
    "            stresses.append([stress])\n",
    "    \n",
    "    # make combination of all possible stress patterns\n",
    "    result = [[]]\n",
    "    final = []\n",
    "    for pool in stresses:\n",
    "        result = [x+[y] for x in result for y in pool]\n",
    "    final = [''.join(i) for i in result]\n",
    "    \n",
    "    # return if any pattern fits iambic pentameter \n",
    "    return ('0101010101' in final)"
   ]
  },
  {
   "cell_type": "code",
   "execution_count": null,
   "metadata": {
    "collapsed": false
   },
   "outputs": [],
   "source": []
  },
  {
   "cell_type": "code",
   "execution_count": null,
   "metadata": {
    "collapsed": false
   },
   "outputs": [],
   "source": []
  },
  {
   "cell_type": "code",
   "execution_count": null,
   "metadata": {
    "collapsed": true
   },
   "outputs": [],
   "source": []
  }
 ],
 "metadata": {
  "kernelspec": {
   "display_name": "Python 2",
   "language": "python",
   "name": "python2"
  },
  "language_info": {
   "codemirror_mode": {
    "name": "ipython",
    "version": 2
   },
   "file_extension": ".py",
   "mimetype": "text/x-python",
   "name": "python",
   "nbconvert_exporter": "python",
   "pygments_lexer": "ipython2",
   "version": "2.7.10"
  }
 },
 "nbformat": 4,
 "nbformat_minor": 2
}
