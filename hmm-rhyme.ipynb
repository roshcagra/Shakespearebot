{
 "cells": [
  {
   "cell_type": "code",
   "execution_count": 4,
   "metadata": {
    "collapsed": true
   },
   "outputs": [],
   "source": [
    "from __future__ import division, print_function\n",
    "import numpy as np\n",
    "import os\n",
    "import sys\n",
    "sys.path.append('../hw5/homework5_code')\n",
    "from hmmlearn.hmm import MultinomialHMM"
   ]
  },
  {
   "cell_type": "code",
   "execution_count": 281,
   "metadata": {
    "collapsed": false
   },
   "outputs": [],
   "source": [
    "%run 'preprocessing.ipynb'"
   ]
  },
  {
   "cell_type": "code",
   "execution_count": 282,
   "metadata": {
    "collapsed": true
   },
   "outputs": [],
   "source": [
    "def get_rhymes(words):\n",
    "    num_words = len(words)\n",
    "    rhymes = np.empty((num_words, num_words))\n",
    "    \n",
    "    for i in range(num_words):\n",
    "        for j in (k for k in range(num_words) if not k == i):\n",
    "            if poetrytools.rhymes(words[i], words[j]):\n",
    "                rhymes[i][j] = 1\n",
    "    return rhymes"
   ]
  },
  {
   "cell_type": "code",
   "execution_count": 283,
   "metadata": {
    "collapsed": true
   },
   "outputs": [],
   "source": [
    "quatrain_rhymes = get_rhymes(quatrain_words)\n",
    "volta_rhymes = get_rhymes(volta_words)\n",
    "couplet_rhymes = get_rhymes(couplet_words)"
   ]
  },
  {
   "cell_type": "code",
   "execution_count": 284,
   "metadata": {
    "collapsed": false
   },
   "outputs": [
    {
     "data": {
      "text/plain": [
       "MultinomialHMM(algorithm='viterbi', init_params='ste', n_components=20,\n",
       "        n_iter=10, params='ste',\n",
       "        random_state=<mtrand.RandomState object at 0x10dabd640>,\n",
       "        startprob_prior=1.0, tol=0.01, transmat_prior=1.0, verbose=False)"
      ]
     },
     "execution_count": 284,
     "metadata": {},
     "output_type": "execute_result"
    }
   ],
   "source": [
    "reversed_quatrain_model = MultinomialHMM(n_components=20)\n",
    "reversed_volta_model = MultinomialHMM(n_components=20)\n",
    "reversed_couplet_model = MultinomialHMM(n_components=20)\n",
    "reversed_quatrain_model.fit(np.concatenate(reversed_converted_quatrain_lines), quatrain_lengths)\n",
    "reversed_volta_model.fit(np.concatenate(reversed_converted_volta_lines), volta_lengths)\n",
    "reversed_couplet_model.fit(np.concatenate(reversed_converted_couplet_lines), couplet_lengths)"
   ]
  },
  {
   "cell_type": "code",
   "execution_count": 327,
   "metadata": {
    "collapsed": false
   },
   "outputs": [],
   "source": [
    "def generate_b_line(seed, rhymes, model, length=7):\n",
    "    b_line = []\n",
    "    start_probs = model.startprob_\n",
    "    emission_probs = model.emissionprob_\n",
    "    transition_probs = model.transmat_\n",
    "\n",
    "    start_state = np.random.choice(len(start_probs), p = start_probs)\n",
    "    \n",
    "    possible_start_emissions = np.where(rhymes[seed] == 1)\n",
    "    probs = np.array(emission_probs[start_state][possible_start_emissions])\n",
    "\n",
    "    scaled_probs = probs / sum(probs)\n",
    "    \n",
    "    start_emission = np.random.choice(possible_start_emissions[0], p=scaled_probs)\n",
    "    b_line.append(start_emission)\n",
    "    \n",
    "    curr_state = start_state\n",
    "    for _ in range(length - 1):\n",
    "        possible_transitions = transition_probs[curr_state]\n",
    "        curr_state = np.random.choice(len(possible_transitions), p=possible_transitions)\n",
    "        possible_emissions = emission_probs[curr_state]\n",
    "        curr_emission = np.random.choice(len(possible_emissions), p=possible_emissions)\n",
    "        b_line.append(curr_emission)\n",
    "        \n",
    "    return b_line\n",
    "\n",
    "def convert_a_line(sample, words):\n",
    "    ret = ''\n",
    "    reversed_list = []\n",
    "    for word in np.nditer(sample):\n",
    "        reversed_list.append(word)\n",
    "    \n",
    "    for word in reversed(reversed_list):\n",
    "        ret += words[word] + ' '\n",
    "    return ret\n",
    "\n",
    "def convert_b_line(sample, words):\n",
    "    ret = ''\n",
    "    for word in reversed(sample):\n",
    "        ret += words[word] + ' '\n",
    "    return ret\n",
    "\n",
    "def generate_pair(model, rhymes, length=7):\n",
    "    while True:\n",
    "        a_line = model.sample(length)[0]\n",
    "        seed = a_line[0][0]\n",
    "        print(np.where(rhymes[seed] == 1)[0])\n",
    "        if len(np.where(rhymes[seed][0])) > 0:\n",
    "            b_line = generate_b_line(seed, rhymes, model)\n",
    "            return a_line, b_line\n",
    "        \n",
    "def generate_rhyming_sonnet():\n",
    "    sonnet = ''\n",
    "    a_lines = []\n",
    "    b_lines = []\n",
    "    \n",
    "    for _ in range(4):\n",
    "        a_line, b_line = generate_pair(reversed_quatrain_model, quatrain_rhymes)\n",
    "        a_lines.append(a_line)\n",
    "        b_lines.append(b_line)\n",
    "        \n",
    "    for i in range(2):\n",
    "        sonnet += convert_a_line(a_lines[2 * i], quatrain_words) + '\\n'\n",
    "        sonnet += convert_a_line(a_lines[2 * i + 1], quatrain_words) + '\\n'\n",
    "        sonnet += convert_b_line(b_lines[2 * i], quatrain_words) + '\\n'\n",
    "        sonnet += convert_b_line(b_lines[2 * i + 1], quatrain_words) + '\\n'\n",
    "    return sonnet\n",
    "\n",
    "def generate_10_rhyming_sonnets():\n",
    "    sonnets = ''\n",
    "    for i in range(10):\n",
    "        sonnets += str(i) + '\\n' + generate_rhyming_sonnet() + '\\n'\n",
    "    \n",
    "    f = open(\"project2data/rhyming_shakespeare.txt\",\"w\")\n",
    "    f.write(sonnets)\n",
    "    return sonnets"
   ]
  },
  {
   "cell_type": "code",
   "execution_count": 328,
   "metadata": {
    "collapsed": false
   },
   "outputs": [
    {
     "name": "stdout",
     "output_type": "stream",
     "text": [
      "[ 667 1947]\n",
      "[]\n"
     ]
    },
    {
     "ename": "ValueError",
     "evalue": "a must be non-empty",
     "output_type": "error",
     "traceback": [
      "\u001b[0;31m---------------------------------------------------------------------------\u001b[0m",
      "\u001b[0;31mValueError\u001b[0m                                Traceback (most recent call last)",
      "\u001b[0;32m<ipython-input-328-79f83604907e>\u001b[0m in \u001b[0;36m<module>\u001b[0;34m()\u001b[0m\n\u001b[0;32m----> 1\u001b[0;31m \u001b[0;32mprint\u001b[0m\u001b[0;34m(\u001b[0m\u001b[0mgenerate_rhyming_sonnet\u001b[0m\u001b[0;34m(\u001b[0m\u001b[0;34m)\u001b[0m\u001b[0;34m)\u001b[0m\u001b[0;34m\u001b[0m\u001b[0m\n\u001b[0m",
      "\u001b[0;32m<ipython-input-327-c009d68849db>\u001b[0m in \u001b[0;36mgenerate_rhyming_sonnet\u001b[0;34m()\u001b[0m\n\u001b[1;32m     56\u001b[0m \u001b[0;34m\u001b[0m\u001b[0m\n\u001b[1;32m     57\u001b[0m     \u001b[0;32mfor\u001b[0m \u001b[0m_\u001b[0m \u001b[0;32min\u001b[0m \u001b[0mrange\u001b[0m\u001b[0;34m(\u001b[0m\u001b[0;36m4\u001b[0m\u001b[0;34m)\u001b[0m\u001b[0;34m:\u001b[0m\u001b[0;34m\u001b[0m\u001b[0m\n\u001b[0;32m---> 58\u001b[0;31m         \u001b[0ma_line\u001b[0m\u001b[0;34m,\u001b[0m \u001b[0mb_line\u001b[0m \u001b[0;34m=\u001b[0m \u001b[0mgenerate_pair\u001b[0m\u001b[0;34m(\u001b[0m\u001b[0mreversed_quatrain_model\u001b[0m\u001b[0;34m,\u001b[0m \u001b[0mquatrain_rhymes\u001b[0m\u001b[0;34m)\u001b[0m\u001b[0;34m\u001b[0m\u001b[0m\n\u001b[0m\u001b[1;32m     59\u001b[0m         \u001b[0ma_lines\u001b[0m\u001b[0;34m.\u001b[0m\u001b[0mappend\u001b[0m\u001b[0;34m(\u001b[0m\u001b[0ma_line\u001b[0m\u001b[0;34m)\u001b[0m\u001b[0;34m\u001b[0m\u001b[0m\n\u001b[1;32m     60\u001b[0m         \u001b[0mb_lines\u001b[0m\u001b[0;34m.\u001b[0m\u001b[0mappend\u001b[0m\u001b[0;34m(\u001b[0m\u001b[0mb_line\u001b[0m\u001b[0;34m)\u001b[0m\u001b[0;34m\u001b[0m\u001b[0m\n",
      "\u001b[0;32m<ipython-input-327-c009d68849db>\u001b[0m in \u001b[0;36mgenerate_pair\u001b[0;34m(model, rhymes, length)\u001b[0m\n\u001b[1;32m     47\u001b[0m         \u001b[0;32mprint\u001b[0m\u001b[0;34m(\u001b[0m\u001b[0mnp\u001b[0m\u001b[0;34m.\u001b[0m\u001b[0mwhere\u001b[0m\u001b[0;34m(\u001b[0m\u001b[0mrhymes\u001b[0m\u001b[0;34m[\u001b[0m\u001b[0mseed\u001b[0m\u001b[0;34m]\u001b[0m \u001b[0;34m==\u001b[0m \u001b[0;36m1\u001b[0m\u001b[0;34m)\u001b[0m\u001b[0;34m[\u001b[0m\u001b[0;36m0\u001b[0m\u001b[0;34m]\u001b[0m\u001b[0;34m)\u001b[0m\u001b[0;34m\u001b[0m\u001b[0m\n\u001b[1;32m     48\u001b[0m         \u001b[0;32mif\u001b[0m \u001b[0mlen\u001b[0m\u001b[0;34m(\u001b[0m\u001b[0mnp\u001b[0m\u001b[0;34m.\u001b[0m\u001b[0mwhere\u001b[0m\u001b[0;34m(\u001b[0m\u001b[0mrhymes\u001b[0m\u001b[0;34m[\u001b[0m\u001b[0mseed\u001b[0m\u001b[0;34m]\u001b[0m\u001b[0;34m[\u001b[0m\u001b[0;36m0\u001b[0m\u001b[0;34m]\u001b[0m\u001b[0;34m)\u001b[0m\u001b[0;34m)\u001b[0m \u001b[0;34m>\u001b[0m \u001b[0;36m0\u001b[0m\u001b[0;34m:\u001b[0m\u001b[0;34m\u001b[0m\u001b[0m\n\u001b[0;32m---> 49\u001b[0;31m             \u001b[0mb_line\u001b[0m \u001b[0;34m=\u001b[0m \u001b[0mgenerate_b_line\u001b[0m\u001b[0;34m(\u001b[0m\u001b[0mseed\u001b[0m\u001b[0;34m,\u001b[0m \u001b[0mrhymes\u001b[0m\u001b[0;34m,\u001b[0m \u001b[0mmodel\u001b[0m\u001b[0;34m)\u001b[0m\u001b[0;34m\u001b[0m\u001b[0m\n\u001b[0m\u001b[1;32m     50\u001b[0m             \u001b[0;32mreturn\u001b[0m \u001b[0ma_line\u001b[0m\u001b[0;34m,\u001b[0m \u001b[0mb_line\u001b[0m\u001b[0;34m\u001b[0m\u001b[0m\n\u001b[1;32m     51\u001b[0m \u001b[0;34m\u001b[0m\u001b[0m\n",
      "\u001b[0;32m<ipython-input-327-c009d68849db>\u001b[0m in \u001b[0;36mgenerate_b_line\u001b[0;34m(seed, rhymes, model, length)\u001b[0m\n\u001b[1;32m     12\u001b[0m     \u001b[0mscaled_probs\u001b[0m \u001b[0;34m=\u001b[0m \u001b[0mprobs\u001b[0m \u001b[0;34m/\u001b[0m \u001b[0msum\u001b[0m\u001b[0;34m(\u001b[0m\u001b[0mprobs\u001b[0m\u001b[0;34m)\u001b[0m\u001b[0;34m\u001b[0m\u001b[0m\n\u001b[1;32m     13\u001b[0m \u001b[0;34m\u001b[0m\u001b[0m\n\u001b[0;32m---> 14\u001b[0;31m     \u001b[0mstart_emission\u001b[0m \u001b[0;34m=\u001b[0m \u001b[0mnp\u001b[0m\u001b[0;34m.\u001b[0m\u001b[0mrandom\u001b[0m\u001b[0;34m.\u001b[0m\u001b[0mchoice\u001b[0m\u001b[0;34m(\u001b[0m\u001b[0mpossible_start_emissions\u001b[0m\u001b[0;34m[\u001b[0m\u001b[0;36m0\u001b[0m\u001b[0;34m]\u001b[0m\u001b[0;34m,\u001b[0m \u001b[0mp\u001b[0m\u001b[0;34m=\u001b[0m\u001b[0mscaled_probs\u001b[0m\u001b[0;34m)\u001b[0m\u001b[0;34m\u001b[0m\u001b[0m\n\u001b[0m\u001b[1;32m     15\u001b[0m     \u001b[0mb_line\u001b[0m\u001b[0;34m.\u001b[0m\u001b[0mappend\u001b[0m\u001b[0;34m(\u001b[0m\u001b[0mstart_emission\u001b[0m\u001b[0;34m)\u001b[0m\u001b[0;34m\u001b[0m\u001b[0m\n\u001b[1;32m     16\u001b[0m \u001b[0;34m\u001b[0m\u001b[0m\n",
      "\u001b[0;32mmtrand.pyx\u001b[0m in \u001b[0;36mmtrand.RandomState.choice (numpy/random/mtrand/mtrand.c:17158)\u001b[0;34m()\u001b[0m\n",
      "\u001b[0;31mValueError\u001b[0m: a must be non-empty"
     ]
    }
   ],
   "source": [
    "print(generate_rhyming_sonnet())"
   ]
  },
  {
   "cell_type": "code",
   "execution_count": 270,
   "metadata": {
    "collapsed": false
   },
   "outputs": [
    {
     "data": {
      "text/plain": [
       "[array([[ 775],\n",
       "        [1363],\n",
       "        [ 803],\n",
       "        [1335],\n",
       "        [ 965],\n",
       "        [ 105],\n",
       "        [1228]])]"
      ]
     },
     "execution_count": 270,
     "metadata": {},
     "output_type": "execute_result"
    }
   ],
   "source": [
    "a_lines"
   ]
  },
  {
   "cell_type": "code",
   "execution_count": 177,
   "metadata": {
    "collapsed": false
   },
   "outputs": [
    {
     "data": {
      "text/plain": [
       "[[262, 1226, 1668, 1310, 880, 1420, 390]]"
      ]
     },
     "execution_count": 177,
     "metadata": {},
     "output_type": "execute_result"
    }
   ],
   "source": [
    "b_lines"
   ]
  },
  {
   "cell_type": "code",
   "execution_count": 158,
   "metadata": {
    "collapsed": false
   },
   "outputs": [
    {
     "data": {
      "text/plain": [
       "u'lasting'"
      ]
     },
     "execution_count": 158,
     "metadata": {},
     "output_type": "execute_result"
    }
   ],
   "source": [
    "quatrain_words[1238]"
   ]
  },
  {
   "cell_type": "code",
   "execution_count": 159,
   "metadata": {
    "collapsed": false
   },
   "outputs": [
    {
     "data": {
      "text/plain": [
       "u'Creating'"
      ]
     },
     "execution_count": 159,
     "metadata": {},
     "output_type": "execute_result"
    }
   ],
   "source": [
    "quatrain_words[488]"
   ]
  },
  {
   "cell_type": "code",
   "execution_count": null,
   "metadata": {
    "collapsed": true
   },
   "outputs": [],
   "source": []
  }
 ],
 "metadata": {
  "kernelspec": {
   "display_name": "Python 2",
   "language": "python",
   "name": "python2"
  },
  "language_info": {
   "codemirror_mode": {
    "name": "ipython",
    "version": 2
   },
   "file_extension": ".py",
   "mimetype": "text/x-python",
   "name": "python",
   "nbconvert_exporter": "python",
   "pygments_lexer": "ipython2",
   "version": "2.7.13"
  }
 },
 "nbformat": 4,
 "nbformat_minor": 2
}
