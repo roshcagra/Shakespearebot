{
 "cells": [
  {
   "cell_type": "code",
   "execution_count": 4,
   "metadata": {
    "collapsed": true
   },
   "outputs": [],
   "source": [
    "from __future__ import division, print_function\n",
    "import numpy as np\n",
    "import os\n",
    "import sys\n",
    "sys.path.append('../hw5/homework5_code')\n",
    "from hmmlearn.hmm import MultinomialHMM"
   ]
  },
  {
   "cell_type": "code",
   "execution_count": 10,
   "metadata": {
    "collapsed": false
   },
   "outputs": [],
   "source": [
    "%run 'preprocessing.ipynb'"
   ]
  },
  {
   "cell_type": "code",
   "execution_count": 7,
   "metadata": {
    "collapsed": true
   },
   "outputs": [],
   "source": [
    "def get_rhymes(words):\n",
    "    num_words = len(words)\n",
    "    rhymes = np.empty((num_words, num_words))\n",
    "    \n",
    "    for i in range(num_words):\n",
    "        for j in (k for k in range(num_words) if not k == i):\n",
    "            if poetrytools.rhymes(words[i], words[j]):\n",
    "                rhymes[i][j] = 1\n",
    "    return rhymes"
   ]
  },
  {
   "cell_type": "code",
   "execution_count": 8,
   "metadata": {
    "collapsed": true
   },
   "outputs": [],
   "source": [
    "quatrain_rhymes = get_rhymes(quatrain_words)\n",
    "volta_rhymes = get_rhymes(volta_words)\n",
    "couplet_rhymes = get_rhymes(couplet_words)"
   ]
  },
  {
   "cell_type": "code",
   "execution_count": 11,
   "metadata": {
    "collapsed": false
   },
   "outputs": [
    {
     "data": {
      "text/plain": [
       "MultinomialHMM(algorithm='viterbi', init_params='ste', n_components=20,\n",
       "        n_iter=10, params='ste',\n",
       "        random_state=<mtrand.RandomState object at 0x10dabd640>,\n",
       "        startprob_prior=1.0, tol=0.01, transmat_prior=1.0, verbose=False)"
      ]
     },
     "execution_count": 11,
     "metadata": {},
     "output_type": "execute_result"
    }
   ],
   "source": [
    "reversed_quatrain_model = MultinomialHMM(n_components=20)\n",
    "reversed_volta_model = MultinomialHMM(n_components=20)\n",
    "reversed_couplet_model = MultinomialHMM(n_components=20)\n",
    "reversed_quatrain_model.fit(np.concatenate(reversed_converted_quatrain_lines), quatrain_lengths)\n",
    "reversed_volta_model.fit(np.concatenate(reversed_converted_volta_lines), volta_lengths)\n",
    "reversed_couplet_model.fit(np.concatenate(reversed_converted_couplet_lines), couplet_lengths)"
   ]
  },
  {
   "cell_type": "code",
   "execution_count": 258,
   "metadata": {
    "collapsed": false
   },
   "outputs": [],
   "source": [
    "def generate_b_line(seed, rhymes, model, length=7):\n",
    "    b_line = []\n",
    "    start_probs = model.startprob_\n",
    "    emission_probs = model.emissionprob_\n",
    "    transition_probs = model.transmat_\n",
    "\n",
    "    start_state = np.random.choice(len(start_probs), p = start_probs)\n",
    "    \n",
    "    possible_start_emissions = np.where(rhymes[seed] == 1)\n",
    "    probs = np.array(emission_probs[start_state][possible_start_emissions])\n",
    "\n",
    "    scaled_probs = probs / sum(probs)\n",
    "    \n",
    "    start_emission = np.random.choice(possible_start_emissions[0], p=scaled_probs)\n",
    "    b_line.append(start_emission)\n",
    "    \n",
    "    curr_state = start_state\n",
    "    for _ in range(length - 1):\n",
    "        possible_transitions = transition_probs[curr_state]\n",
    "        curr_state = np.random.choice(len(possible_transitions), p=possible_transitions)\n",
    "        possible_emissions = emission_probs[curr_state]\n",
    "        curr_emission = np.random.choice(len(possible_emissions), p=possible_emissions)\n",
    "        b_line.append(curr_emission)\n",
    "        \n",
    "    return b_line\n",
    "\n",
    "def convert_a_line(sample, words):\n",
    "    ret = ''\n",
    "    reversed_list = []\n",
    "    for word in np.nditer(sample):\n",
    "        reversed_list.append(word)\n",
    "    \n",
    "    for word in reversed(reversed_list):\n",
    "        ret += words[word] + ' '\n",
    "    return ret\n",
    "\n",
    "def convert_b_line(sample, words):\n",
    "    ret = ''\n",
    "    for word in reversed(sample):\n",
    "        ret += words[word] + ' '\n",
    "    return ret\n",
    "\n",
    "def generate_rhyming_sonnet():\n",
    "    sonnet = ''\n",
    "    a_lines = []\n",
    "    for _ in range(4):\n",
    "        new_quatrain_line = reversed_quatrain_model.sample(avg_quatrain_length)[0]\n",
    "        a_lines.append(new_quatrain_line)\n",
    "    \n",
    "    b_lines = []\n",
    "    for a_line in a_lines:\n",
    "        b_lines.append(generate_b_line(a_line[0][0], quatrain_rhymes, reversed_quatrain_model))\n",
    "        \n",
    "    for i in range(4):\n",
    "        sonnet += convert_a_line(a_lines[i], quatrain_words) + '\\n'\n",
    "        sonnet += convert_b_line(b_lines[i], quatrain_words) + '\\n'\n",
    "    return sonnet"
   ]
  },
  {
   "cell_type": "code",
   "execution_count": 259,
   "metadata": {
    "collapsed": false
   },
   "outputs": [
    {
     "name": "stdout",
     "output_type": "stream",
     "text": [
      "Straight in world's for thy Lovegod we \n",
      "mistress' is than the was These We \n",
      "in Exceeded to woman's foul are the \n",
      "slave sweet reasons body Thy can The \n",
      "thee Upon old remote in I made \n",
      "the do great Rough The Muse Made \n",
      "From motion past you date thy settled \n",
      "changes of with their thee my threefold \n",
      "\n"
     ]
    }
   ],
   "source": [
    "print(generate_rhyming_sonnet())"
   ]
  },
  {
   "cell_type": "code",
   "execution_count": 176,
   "metadata": {
    "collapsed": false
   },
   "outputs": [
    {
     "data": {
      "text/plain": [
       "[array([[ 775],\n",
       "        [1363],\n",
       "        [ 803],\n",
       "        [1335],\n",
       "        [ 965],\n",
       "        [ 105],\n",
       "        [1228]])]"
      ]
     },
     "execution_count": 176,
     "metadata": {},
     "output_type": "execute_result"
    }
   ],
   "source": [
    "a_lines"
   ]
  },
  {
   "cell_type": "code",
   "execution_count": 177,
   "metadata": {
    "collapsed": false
   },
   "outputs": [
    {
     "data": {
      "text/plain": [
       "[[262, 1226, 1668, 1310, 880, 1420, 390]]"
      ]
     },
     "execution_count": 177,
     "metadata": {},
     "output_type": "execute_result"
    }
   ],
   "source": [
    "b_lines"
   ]
  },
  {
   "cell_type": "code",
   "execution_count": 158,
   "metadata": {
    "collapsed": false
   },
   "outputs": [
    {
     "data": {
      "text/plain": [
       "u'lasting'"
      ]
     },
     "execution_count": 158,
     "metadata": {},
     "output_type": "execute_result"
    }
   ],
   "source": [
    "quatrain_words[1238]"
   ]
  },
  {
   "cell_type": "code",
   "execution_count": 159,
   "metadata": {
    "collapsed": false
   },
   "outputs": [
    {
     "data": {
      "text/plain": [
       "u'Creating'"
      ]
     },
     "execution_count": 159,
     "metadata": {},
     "output_type": "execute_result"
    }
   ],
   "source": [
    "quatrain_words[488]"
   ]
  },
  {
   "cell_type": "code",
   "execution_count": null,
   "metadata": {
    "collapsed": true
   },
   "outputs": [],
   "source": []
  }
 ],
 "metadata": {
  "kernelspec": {
   "display_name": "Python 2",
   "language": "python",
   "name": "python2"
  },
  "language_info": {
   "codemirror_mode": {
    "name": "ipython",
    "version": 2
   },
   "file_extension": ".py",
   "mimetype": "text/x-python",
   "name": "python",
   "nbconvert_exporter": "python",
   "pygments_lexer": "ipython2",
   "version": "2.7.13"
  }
 },
 "nbformat": 4,
 "nbformat_minor": 2
}
